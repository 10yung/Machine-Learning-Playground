{
 "cells": [
  {
   "cell_type": "markdown",
   "metadata": {},
   "source": [
    "# Meanshift\n",
    "### Definition\n",
    "Meanshift is an unsupervised learning algorithm that assign datapoints to cluster through shifting the cluster centroids. Meanshift builds upon the concept of kernel density estimation (KDE) which use the probibability distribution to define and shift cluster controid. Through iteratively calcuating each point shift, the centroid of the same cluster will convergence and become stable. The algorithm will stop until it reach a stable cluster point and assign every points to its' own cluster. Meanshift does not require specifying the number of clusters in advance, unlike K-means.\n",
    "\n",
    "[Log0, 2016](http://www.chioka.in/meanshift-algorithm-for-the-rest-of-us-python/),\n",
    "[Matt Nedrich Mean Shift Clustering 2015](https://spin.atomicobject.com/2015/05/26/mean-shift-clustering/)\n",
    "\n",
    "### Algorithm\n",
    "1. Randomly get one data(initial centroid) from dataset and draw a circle (Bandwidth, Window)\n",
    "2. Find all the data within the circle and calculate the new centroid\n",
    "3. Update the centroid\n",
    "4. Check and find all the data within the new circle and calculate the new centroid\n",
    "5. Iterate step 2 ~ 4 until the centroid not move again\n",
    "6. Randomly get another data from dataset\n",
    "7. Repeat step 1 ~ 6 until all data in dataset are calculated\n",
    "\n",
    "[Sentdex - Hierarchical Clustering with Mean Shift Introduction](https://pythonprogramming.net/hierarchical-clustering-mean-shift-machine-learning-tutorial/)\n",
    "### Problem\n",
    "\n",
    "\n",
    "### Pros & Cons\n",
    "\n",
    "### Reference\n"
   ]
  },
  {
   "cell_type": "code",
   "execution_count": 4,
   "metadata": {},
   "outputs": [],
   "source": [
    "import numpy as np\n",
    "from sklearn.cluster import MeanShift, estimate_bandwidth\n",
    "from sklearn.datasets.samples_generator import make_blobs\n",
    "import matplotlib.pyplot as plt\n",
    "from itertools import cycle\n",
    "from PIL import Image\n",
    "from matplotlib.pyplot import imshow\n",
    "%matplotlib inline"
   ]
  },
  {
   "cell_type": "code",
   "execution_count": 51,
   "metadata": {},
   "outputs": [],
   "source": [
    "# fig, ax = plt.subplots()\n",
    "\n",
    "# min_val, max_val = 0, 15\n",
    "\n",
    "# intersection_matrix = np.random.randint(0, 10, size=(max_val, max_val))\n",
    "# print(intersection_matrix)\n",
    "# ax.matshow(intersection_matrix, cmap=plt.cm.Blues)\n",
    "\n",
    "# for i in range(15):\n",
    "#     for j in range(15):\n",
    "#         c = intersection_matrix[j,i]\n",
    "#         ax.text(i, j, str(c), va='center', ha='center')"
   ]
  },
  {
   "cell_type": "code",
   "execution_count": 123,
   "metadata": {},
   "outputs": [
    {
     "data": {
      "text/plain": [
       "<matplotlib.image.AxesImage at 0x1a1dd45208>"
      ]
     },
     "execution_count": 123,
     "metadata": {},
     "output_type": "execute_result"
    },
    {
     "data": {
      "image/png": "[encoded data removed]",
      "text/plain": [
       "<Figure size 432x288 with 1 Axes>"
      ]
     },
     "metadata": {
      "needs_background": "light"
     },
     "output_type": "display_data"
    }
   ],
   "source": [
    "image = Image.open('./data/Thermal_small.png').convert('RGB')\n",
    "image = np.array(image)\n",
    "# print(image)\n",
    "# print('-----Before------')\n",
    "imshow(image)\n",
    "# print(image)\n",
    "# print(image.shape)"
   ]
  },
  {
   "cell_type": "code",
   "execution_count": 131,
   "metadata": {},
   "outputs": [],
   "source": [
    "flat_image=np.reshape(image, [-1, 3])\n",
    "# print(flat_image)\n",
    "\n",
    "bandwidth2 = estimate_bandwidth(flat_image, quantile=.1, n_samples=180)\n",
    "ms = MeanShift(bandwidth2, bin_seeding=True)\n",
    "\n",
    "# ms = MeanShift()\n",
    "\n",
    "ms.fit(flat_image)\n",
    "labels=ms.labels_\n",
    "# print('---- label shape ----')\n",
    "# print(labels)\n",
    "labels_unique = np.unique(labels)\n",
    "n_clusters_ = len(labels_unique)"
   ]
  },
  {
   "cell_type": "code",
   "execution_count": 132,
   "metadata": {},
   "outputs": [
    {
     "data": {
      "text/plain": [
       "<matplotlib.image.AxesImage at 0x1a1ea36780>"
      ]
     },
     "execution_count": 132,
     "metadata": {},
     "output_type": "execute_result"
    },
    {
     "data": {
      "image/png": "[encoded data removed]",
      "text/plain": [
       "<Figure size 432x288 with 1 Axes>"
      ]
     },
     "metadata": {
      "needs_background": "light"
     },
     "output_type": "display_data"
    },
    {
     "data": {
      "image/png": "[encoded data removed]",
      "text/plain": [
       "<Figure size 432x288 with 1 Axes>"
      ]
     },
     "metadata": {
      "needs_background": "light"
     },
     "output_type": "display_data"
    },
    {
     "data": {
      "image/png": "[encoded data removed]",
      "text/plain": [
       "<Figure size 432x288 with 1 Axes>"
      ]
     },
     "metadata": {
      "needs_background": "light"
     },
     "output_type": "display_data"
    }
   ],
   "source": [
    "# Convert \n",
    "cluster_RGB_map = []\n",
    "\n",
    "for i in labels_unique:\n",
    "    cluster_index = (labels == i)\n",
    "    cluster_RGB_pionts = flat_image[cluster_index]\n",
    "    each_cluster_RGB = np.mean(cluster_RGB_pionts, axis=0).astype(int)\n",
    "    cluster_RGB_map.append(each_cluster_RGB)\n",
    "\n",
    "cluster_RGB_map = np.array(cluster_RGB_map)\n",
    "\n",
    "\n",
    "final_image = []\n",
    "# Stack RGB by index\n",
    "for i in labels:\n",
    "    each_pixel = cluster_RGB_map[i]\n",
    "    final_image.append(each_pixel)\n",
    "\n",
    "final_image = np.array(final_image)\n",
    "# print(final_image)\n",
    "\n",
    "# Initial unprocess image\n",
    "plt.figure(0)\n",
    "plt.title('Initial image')\n",
    "plt.imshow(image)\n",
    "plt.axis('off')\n",
    "#plt.subplot(2, 1, 2)\n",
    "\n",
    "# Segement image: plot by the cluster numeber\n",
    "plt.figure(1)\n",
    "after_segement = np.reshape(labels, [30, 30])\n",
    "plt.title('Segement image')\n",
    "plt.imshow(after_segement)\n",
    "plt.axis('off')\n",
    "plt.figure(2)\n",
    "\n",
    "# Final image: plot by the mean of RGB in same cluster\n",
    "final_image = np.reshape(final_image, [30, 30, 3])\n",
    "# print(final_image)\n",
    "plt.title('Result')\n",
    "plt.axis('off')\n",
    "plt.imshow(final_image)\n"
   ]
  }
 ],
 "metadata": {
  "kernelspec": {
   "display_name": "Python 3",
   "language": "python",
   "name": "python3"
  },
  "language_info": {
   "codemirror_mode": {
    "name": "ipython",
    "version": 3
   },
   "file_extension": ".py",
   "mimetype": "text/x-python",
   "name": "python",
   "nbconvert_exporter": "python",
   "pygments_lexer": "ipython3",
   "version": "3.7.3"
  }
 },
 "nbformat": 4,
 "nbformat_minor": 2
}
