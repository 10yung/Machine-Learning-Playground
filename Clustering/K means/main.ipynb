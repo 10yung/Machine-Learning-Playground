{
 "cells": [
  {
   "cell_type": "markdown",
   "metadata": {},
   "source": [
    "# K-Means\n",
    "### Definition\n",
    "K-Means is an unsupervised learning algorithm that, as the name hints, finds a fixed number (k) of clusters in a set of data. A cluster is a group of data points that are grouped together due to similarities in their features. When using a K-Means algorithm, a cluster is defined by a centroid, which is a point (either imaginary or real) at the center of a cluster. Every point in a data set is part of the cluster whose centroid is most closely located. To put it simply, K-Means finds k number of centroids, and then assigns all data points to the closest cluster, with the aim of keeping the centroids small.\n",
    "\n",
    "[(Alejandro and Sergio Villegas 2017)](https://blog.easysol.net/machine-learning-algorithms-3/)\n",
    "\n",
    "### Algorithm\n",
    "* Create two randomly generated centroids and assign each data point to the cluster of the closest centroid. \n",
    "* Assign objects to their closest cluster center according to the Euclidean distance function.\n",
    "* Calculate the centroid or mean of all objects in each cluster.\n",
    "* Repeat steps 2, 3 and 4 until the same points are assigned to each cluster in consecutive rounds.\\\n",
    "\n",
    "\n",
    "### Problem\n",
    "* The initial centroids cannot be outlier\n",
    "* How to choose the initial centroids should be discussed.\n",
    "* How many cluster should choose should be discussed.\n",
    "\n",
    "### Pros & Cons\n",
    "* https://developers.google.com/machine-learning/clustering/algorithm/advantages-disadvantages"
   ]
  },
  {
   "cell_type": "code",
   "execution_count": 858,
   "metadata": {},
   "outputs": [],
   "source": [
    "import pandas as pd\n",
    "import numpy as np\n",
    "import matplotlib.pyplot as plt\n",
    "import copy\n",
    "%matplotlib inline"
   ]
  },
  {
   "cell_type": "code",
   "execution_count": 859,
   "metadata": {},
   "outputs": [],
   "source": [
    "# input data\n",
    "# fist row means the first column feature, second row means the second column feature...\n",
    "input_data = np.array([\n",
    "    [12, 20, 28, 18, 29, 33, 24, 45, 45, 52, 51, 52, 55, 53, 55, 61, 64, 69, 72],\n",
    "    [39, 36, 30, 52, 54, 46, 55, 59, 63, 70, 66, 63, 58, 23, 14, 8, 19, 7, 24],\n",
    "    [32, 43, 35, 12, 74, 46, 54, 39, 13, 50, 79, 13, 38, 32, 41, 80, 29, 14, 14]\n",
    "])\n",
    "# how man group and how to choose first data point should be discussed\n",
    "cluster_number = 3\n",
    "\n",
    "# if the initial centroid is outlier, then the cluster number will be incorrect\n",
    "def initial_centroid(initial_input, cluster_number):\n",
    "    return np.random.randint(80, size=(cluster_number,initial_input.shape[0]))\n",
    "\n",
    "initial_centroid = initial_centroid(input_data, cluster_number).reshape(-1, cluster_number)"
   ]
  },
  {
   "cell_type": "code",
   "execution_count": 860,
   "metadata": {
    "scrolled": true
   },
   "outputs": [
    {
     "name": "stdout",
     "output_type": "stream",
     "text": [
      "[2 2 2 0 0 0 0 0 0 0 0 0 0 1 1 1 1 1 1]\n"
     ]
    }
   ],
   "source": [
    "def grouop_assignment(input_data, initial_centroids):\n",
    "    # Calculate the distance (using Euclidean distance)\n",
    "    input_data_transposeed = np.expand_dims(np.transpose(input_data), axis=0)\n",
    "    initial_centroids = np.expand_dims(np.transpose(initial_centroids), axis=1)\n",
    "    expended_centroids = initial_centroids\n",
    "    expended_input = input_data_transposeed\n",
    "\n",
    "    for i in range(cluster_number-1):\n",
    "        expended_input = np.append(expended_input, input_data_transposeed, axis=0)\n",
    "#     print('------expended_input------')\n",
    "#     print(expended_input)\n",
    "    \n",
    "    for i in range(input_data_transposeed.shape[1]-1):\n",
    "        expended_centroids = np.append(expended_centroids, initial_centroids, axis=1)  \n",
    "#     print('------expended_centroids------')\n",
    "#     print(expended_centroids)\n",
    "    \n",
    "    # Calculate the sum of the point and keep the dimension\n",
    "    \n",
    "    euclidean_distance = np.sqrt(np.sum(\n",
    "                                np.square((expended_input - expended_centroids).reshape(-1, input_data.shape[0]))\n",
    "                        , axis=1)).reshape(-1, input_data.shape[1],1)\n",
    "#     print('------euclidean_distance-----')\n",
    "#     print(euclidean_distance)\n",
    "    # find closet centroids value\n",
    "    cluster_index = np.argmin(np.stack(euclidean_distance, axis=1).reshape(-1, cluster_number), axis=1)\n",
    "    return cluster_index\n",
    "    \n",
    "\n",
    "\n",
    "def update_centroids(input_data, cluster_index):\n",
    "    # calculate new centroids by data in same group\n",
    "    unique_cluster = np.unique(cluster_index)\n",
    "    initial_input = np.expand_dims(np.transpose(input_data), axis=0)\n",
    "    new_centroids = []\n",
    "\n",
    "    for i in unique_cluster:\n",
    "        index_of_same_group = np.where(cluster_index == i)\n",
    "        same_group_data = np.take(initial_input, index_of_same_group, axis=1).reshape(-1, initial_input.shape[2])\n",
    "        single_centroid = np.mean(same_group_data, axis=0)\n",
    "        new_centroids = np.append(new_centroids, single_centroid, axis=0)\n",
    "\n",
    "    new_centroids = new_centroids.reshape(-1, initial_input.shape[2]).reshape(-1, cluster_number)\n",
    "    return new_centroids\n",
    "\n",
    "cluster_index = grouop_assignment(input_data, initial_centroid)\n",
    "new_centroids = update_centroids(input_data, cluster_index)\n",
    "print(cluster_index)\n"
   ]
  },
  {
   "cell_type": "code",
   "execution_count": 861,
   "metadata": {},
   "outputs": [
    {
     "name": "stdout",
     "output_type": "stream",
     "text": [
      "[2 2 2 0 2 2 2 0 0 0 2 0 0 1 1 1 1 1 1]\n"
     ]
    }
   ],
   "source": [
    "cluster_index_laststep = []\n",
    "result = []\n",
    "while True:\n",
    "    new_centroids = update_centroids(input_data, cluster_index)\n",
    "    current_cluster_index = grouop_assignment(input_data, new_centroids)\n",
    "    if np.array_equal(current_cluster_index, cluster_index_laststep):\n",
    "        result = current_cluster_index\n",
    "        break\n",
    "    else:\n",
    "        cluster_index_laststep = current_cluster_index\n",
    "\n",
    "print(result)"
   ]
  },
  {
   "cell_type": "code",
   "execution_count": 862,
   "metadata": {},
   "outputs": [
    {
     "name": "stdout",
     "output_type": "stream",
     "text": [
      "[0 0 0 0 2 0 2 0 0 2 2 0 0 1 1 1 1 1 1]\n"
     ]
    }
   ],
   "source": [
    "from sklearn.cluster import KMeans\n",
    "df = pd.DataFrame({\n",
    "    'x': [12, 20, 28, 18, 29, 33, 24, 45, 45, 52, 51, 52, 55, 53, 55, 61, 64, 69, 72],\n",
    "    'y': [39, 36, 30, 52, 54, 46, 55, 59, 63, 70, 66, 63, 58, 23, 14, 8, 19, 7, 24],\n",
    "    'z': [32, 43, 35, 12, 74, 46, 54, 39, 13, 50, 79, 13, 38, 32, 41, 80, 29, 14, 14]\n",
    "})\n",
    "kmeans = KMeans(n_clusters=3)\n",
    "kmeans.fit(df)\n",
    "\n",
    "labels = kmeans.predict(df)\n",
    "centroids = kmeans.cluster_centers_\n",
    "print(labels)"
   ]
  }
 ],
 "metadata": {
  "kernelspec": {
   "display_name": "Python 3",
   "language": "python",
   "name": "python3"
  },
  "language_info": {
   "codemirror_mode": {
    "name": "ipython",
    "version": 3
   },
   "file_extension": ".py",
   "mimetype": "text/x-python",
   "name": "python",
   "nbconvert_exporter": "python",
   "pygments_lexer": "ipython3",
   "version": "3.7.3"
  }
 },
 "nbformat": 4,
 "nbformat_minor": 2
}
