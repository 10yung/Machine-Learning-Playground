{
 "cells": [
  {
   "cell_type": "markdown",
   "metadata": {},
   "source": [
    "# Linear Regression - Gradient Descent\n",
    "### Goal\n",
    "\n",
    "## Gradient Descent\n",
    "\n",
    "### Reference\n"
   ]
  },
  {
   "cell_type": "code",
   "execution_count": 221,
   "metadata": {},
   "outputs": [],
   "source": [
    "import matplotlib.pyplot as plt\n",
    "%matplotlib inline\n",
    "import numpy as np\n",
    "import torch\n",
    "from torch.autograd import Variable "
   ]
  },
  {
   "cell_type": "code",
   "execution_count": 274,
   "metadata": {},
   "outputs": [
    {
     "data": {
      "text/plain": [
       "Text(0.5, 1.0, 'Input data')"
      ]
     },
     "execution_count": 274,
     "metadata": {},
     "output_type": "execute_result"
    },
    {
     "data": {
      "image/png": "[encoded data removed]",
      "text/plain": [
       "<Figure size 432x288 with 1 Axes>"
      ]
     },
     "metadata": {
      "needs_background": "light"
     },
     "output_type": "display_data"
    }
   ],
   "source": [
    "np_x_data = np.array([[1.0], [1.2], [1.3], [1.4], [1.5], [1.6], [1.7],[2.0], [2.2], [2.3], [2.4], [2.5], [2.6], [3.0]])\n",
    "\n",
    "# y = 2X + 1\n",
    "np_y_data = 2*np_x_data + 1\n",
    "\n",
    "plt.plot(np_x_data, np_y_data, 'o')\n",
    "plt.title('Input data')"
   ]
  },
  {
   "cell_type": "code",
   "execution_count": 275,
   "metadata": {},
   "outputs": [],
   "source": [
    "x_data = Variable(torch.Tensor(np_x_data)) \n",
    "y_data = Variable(torch.Tensor(np_y_data)) "
   ]
  },
  {
   "cell_type": "code",
   "execution_count": 276,
   "metadata": {},
   "outputs": [],
   "source": [
    "class LinearRegressionModel(torch.nn.Module): \n",
    "  \n",
    "    def __init__(self): \n",
    "        super(LinearRegressionModel, self).__init__() \n",
    "        self.linear = torch.nn.Linear(1, 1) # One in and one out\n",
    "  \n",
    "    def forward(self, x): \n",
    "        y_pred = self.linear(x) \n",
    "        return y_pred "
   ]
  },
  {
   "cell_type": "code",
   "execution_count": 277,
   "metadata": {},
   "outputs": [],
   "source": [
    "# our model \n",
    "our_model = LinearRegressionModel() \n",
    "  \n",
    "criterion = torch.nn.MSELoss(size_average = False) \n",
    "optimizer = torch.optim.SGD(our_model.parameters(), lr = 0.001) "
   ]
  },
  {
   "cell_type": "code",
   "execution_count": 282,
   "metadata": {},
   "outputs": [],
   "source": [
    "for epoch in range(2000): \n",
    "  \n",
    "    # Forward pass: Compute predicted y by passing  \n",
    "    # x to the model \n",
    "    pred_y = our_model(x_data) \n",
    "  \n",
    "    # Compute and print loss \n",
    "    loss = criterion(pred_y, y_data) \n",
    "  \n",
    "    # Zero gradients, perform a backward pass,  \n",
    "    # and update the weights. \n",
    "    optimizer.zero_grad() \n",
    "    loss.backward() \n",
    "    optimizer.step() "
   ]
  },
  {
   "cell_type": "code",
   "execution_count": 283,
   "metadata": {},
   "outputs": [
    {
     "name": "stdout",
     "output_type": "stream",
     "text": [
      "predict (after training) 4 tensor(9.0016)\n"
     ]
    }
   ],
   "source": [
    "new_var = Variable(torch.Tensor([[4.0]])) \n",
    "pred_y = our_model(new_var) \n",
    "print(\"predict (after training)\", 4, our_model(new_var).data[0][0]) "
   ]
  },
  {
   "cell_type": "code",
   "execution_count": 284,
   "metadata": {},
   "outputs": [
    {
     "data": {
      "text/plain": [
       "[<matplotlib.lines.Line2D at 0x12486ff90>]"
      ]
     },
     "execution_count": 284,
     "metadata": {},
     "output_type": "execute_result"
    },
    {
     "data": {
      "image/png": "[encoded data removed]",
      "text/plain": [
       "<Figure size 432x288 with 1 Axes>"
      ]
     },
     "metadata": {
      "needs_background": "light"
     },
     "output_type": "display_data"
    }
   ],
   "source": [
    "plt.plot(4.0,our_model(new_var).data[0][0],'ro')\n",
    "plt.plot(np_x_data, np_y_data, 'o')\n",
    "\n",
    "# Function y = 2*x + 1\n",
    "x = np.linspace(0,5,100)\n",
    "y = 2*x+1\n",
    "plt.plot(x, y, '-k', label='y=2x+1', linestyle='dashdot',linewidth=.5)"
   ]
  }
 ],
 "metadata": {
  "kernelspec": {
   "display_name": "Python 3",
   "language": "python",
   "name": "python3"
  },
  "language_info": {
   "codemirror_mode": {
    "name": "ipython",
    "version": 3
   },
   "file_extension": ".py",
   "mimetype": "text/x-python",
   "name": "python",
   "nbconvert_exporter": "python",
   "pygments_lexer": "ipython3",
   "version": "3.7.4"
  }
 },
 "nbformat": 4,
 "nbformat_minor": 2
}
