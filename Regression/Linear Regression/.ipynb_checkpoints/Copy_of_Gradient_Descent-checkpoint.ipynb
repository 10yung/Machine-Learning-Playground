{
 "cells": [
  {
   "cell_type": "code",
   "execution_count": 0,
   "metadata": {
    "colab": {},
    "colab_type": "code",
    "id": "JMelGMDql5Ef"
   },
   "outputs": [],
   "source": [
    "import numpy as np\n",
    "import matplotlib.pyplot as plt\n",
    "\n",
    "def f(x):\n",
    "    return (x - 1)**2\n",
    "\n",
    "def grad(x):   # slope\n",
    "    return 2 * (x - 1)\n",
    "    \n",
    "def update(x0):\n",
    "    α = 0.1   # learning rate   # step size = learning rate * slope\n",
    "    x1 = x0 - α * grad(x0)    # new parameter = old parameter - step size\n",
    "    return x1\n",
    "    "
   ]
  },
  {
   "cell_type": "code",
   "execution_count": 0,
   "metadata": {
    "colab": {
     "base_uri": "https://localhost:8080/",
     "height": 36
    },
    "colab_type": "code",
    "id": "yBJGgu6PqNje",
    "outputId": "abca969e-dc68-49d2-b0ff-8daa49cc70f3"
   },
   "outputs": [
    {
     "name": "stdout",
     "output_type": "stream",
     "text": [
      "4 9 6 3.4\n"
     ]
    }
   ],
   "source": [
    "x0 = 4\n",
    "print(x0, f(x0), grad(x0), update(x0))\n"
   ]
  },
  {
   "cell_type": "code",
   "execution_count": 0,
   "metadata": {
    "colab": {
     "base_uri": "https://localhost:8080/",
     "height": 36
    },
    "colab_type": "code",
    "id": "daJT8Sqoqahb",
    "outputId": "2396932b-79f9-47a3-95bf-048135f18688"
   },
   "outputs": [
    {
     "name": "stdout",
     "output_type": "stream",
     "text": [
      "2.92 3.6864 3.84 2.536\n"
     ]
    }
   ],
   "source": [
    "x0 = update(x0)\n",
    "print(x0, f(x0), grad(x0), update(x0))"
   ]
  },
  {
   "cell_type": "code",
   "execution_count": 0,
   "metadata": {
    "colab": {
     "base_uri": "https://localhost:8080/",
     "height": 36
    },
    "colab_type": "code",
    "id": "zqC0Fl5orfAI",
    "outputId": "845b1a2b-da34-4c06-ae2f-4d5bfa42e888"
   },
   "outputs": [
    {
     "name": "stdout",
     "output_type": "stream",
     "text": [
      "1.0000000000000004\n"
     ]
    }
   ],
   "source": [
    "for counter in range(1000):\n",
    "    x0 = update(x0)\n",
    "    \n",
    "print(x0)    # why is one ?"
   ]
  },
  {
   "cell_type": "code",
   "execution_count": 0,
   "metadata": {
    "colab": {},
    "colab_type": "code",
    "id": "8bg8mnChvntS"
   },
   "outputs": [],
   "source": [
    "    "
   ]
  }
 ],
 "metadata": {
  "colab": {
   "collapsed_sections": [],
   "name": "Copy of Gradient Descent",
   "provenance": []
  },
  "kernelspec": {
   "display_name": "Python 3",
   "language": "python",
   "name": "python3"
  },
  "language_info": {
   "codemirror_mode": {
    "name": "ipython",
    "version": 3
   },
   "file_extension": ".py",
   "mimetype": "text/x-python",
   "name": "python",
   "nbconvert_exporter": "python",
   "pygments_lexer": "ipython3",
   "version": "3.7.4"
  }
 },
 "nbformat": 4,
 "nbformat_minor": 1
}
